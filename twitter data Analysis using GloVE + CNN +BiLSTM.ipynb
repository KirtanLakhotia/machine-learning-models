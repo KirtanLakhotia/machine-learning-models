{
 "cells": [
  {
   "cell_type": "code",
   "execution_count": 1,
   "id": "dac7fe30",
   "metadata": {},
   "outputs": [],
   "source": [
    "import pandas as pd\n",
    "import re\n",
    "import nltk\n",
    "from nltk.corpus import stopwords\n",
    "import numpy as np\n",
    "from sklearn.model_selection import train_test_split\n",
    "from keras.preprocessing.text import one_hot, Tokenizer\n",
    "from keras.preprocessing.sequence import pad_sequences\n",
    "from keras.models import Sequential\n",
    "from keras.layers import Embedding,Conv1D,GlobalMaxPooling1D,MaxPooling1D,Dense,AdditiveAttention,MultiHeadAttention,Bidirectional,LSTM,Flatten,Cropping3D,UpSampling3D,Attention,Dropout\n",
    "import tensorflow.compat.v1 as tf"
   ]
  },
  {
   "cell_type": "code",
   "execution_count": 2,
   "id": "db625389",
   "metadata": {},
   "outputs": [],
   "source": [
    "# importing data\n",
    "data_train=pd.read_csv('twitter_training.csv')\n",
    "data_test=pd.read_csv('twitter_validation.csv')"
   ]
  },
  {
   "cell_type": "code",
   "execution_count": 3,
   "id": "850026d7",
   "metadata": {},
   "outputs": [
    {
     "data": {
      "text/plain": [
       "((74681, 4), (999, 4))"
      ]
     },
     "execution_count": 3,
     "metadata": {},
     "output_type": "execute_result"
    }
   ],
   "source": [
    "data_train.shape,data_test.shape"
   ]
  },
  {
   "cell_type": "code",
   "execution_count": 4,
   "id": "7c565715",
   "metadata": {},
   "outputs": [],
   "source": [
    "data_train.columns=['no1','no2','sentiment','text']"
   ]
  },
  {
   "cell_type": "code",
   "execution_count": 5,
   "id": "0ba1575b",
   "metadata": {},
   "outputs": [
    {
     "data": {
      "text/html": [
       "<div>\n",
       "<style scoped>\n",
       "    .dataframe tbody tr th:only-of-type {\n",
       "        vertical-align: middle;\n",
       "    }\n",
       "\n",
       "    .dataframe tbody tr th {\n",
       "        vertical-align: top;\n",
       "    }\n",
       "\n",
       "    .dataframe thead th {\n",
       "        text-align: right;\n",
       "    }\n",
       "</style>\n",
       "<table border=\"1\" class=\"dataframe\">\n",
       "  <thead>\n",
       "    <tr style=\"text-align: right;\">\n",
       "      <th></th>\n",
       "      <th>sentiment</th>\n",
       "      <th>text</th>\n",
       "    </tr>\n",
       "  </thead>\n",
       "  <tbody>\n",
       "    <tr>\n",
       "      <th>0</th>\n",
       "      <td>Positive</td>\n",
       "      <td>I am coming to the borders and I will kill you...</td>\n",
       "    </tr>\n",
       "    <tr>\n",
       "      <th>1</th>\n",
       "      <td>Positive</td>\n",
       "      <td>im getting on borderlands and i will kill you ...</td>\n",
       "    </tr>\n",
       "    <tr>\n",
       "      <th>2</th>\n",
       "      <td>Positive</td>\n",
       "      <td>im coming on borderlands and i will murder you...</td>\n",
       "    </tr>\n",
       "    <tr>\n",
       "      <th>3</th>\n",
       "      <td>Positive</td>\n",
       "      <td>im getting on borderlands 2 and i will murder ...</td>\n",
       "    </tr>\n",
       "    <tr>\n",
       "      <th>4</th>\n",
       "      <td>Positive</td>\n",
       "      <td>im getting into borderlands and i can murder y...</td>\n",
       "    </tr>\n",
       "  </tbody>\n",
       "</table>\n",
       "</div>"
      ],
      "text/plain": [
       "  sentiment                                               text\n",
       "0  Positive  I am coming to the borders and I will kill you...\n",
       "1  Positive  im getting on borderlands and i will kill you ...\n",
       "2  Positive  im coming on borderlands and i will murder you...\n",
       "3  Positive  im getting on borderlands 2 and i will murder ...\n",
       "4  Positive  im getting into borderlands and i can murder y..."
      ]
     },
     "execution_count": 5,
     "metadata": {},
     "output_type": "execute_result"
    }
   ],
   "source": [
    "data_train.drop('no1',axis=1,inplace=True)\n",
    "data_train.drop('no2',axis=1,inplace=True)\n",
    "data_train.head()"
   ]
  },
  {
   "cell_type": "code",
   "execution_count": 6,
   "id": "3259d001",
   "metadata": {},
   "outputs": [],
   "source": [
    "data_test.columns=['no1','no2','sentiment','text']"
   ]
  },
  {
   "cell_type": "code",
   "execution_count": 7,
   "id": "186cd571",
   "metadata": {},
   "outputs": [
    {
     "data": {
      "text/html": [
       "<div>\n",
       "<style scoped>\n",
       "    .dataframe tbody tr th:only-of-type {\n",
       "        vertical-align: middle;\n",
       "    }\n",
       "\n",
       "    .dataframe tbody tr th {\n",
       "        vertical-align: top;\n",
       "    }\n",
       "\n",
       "    .dataframe thead th {\n",
       "        text-align: right;\n",
       "    }\n",
       "</style>\n",
       "<table border=\"1\" class=\"dataframe\">\n",
       "  <thead>\n",
       "    <tr style=\"text-align: right;\">\n",
       "      <th></th>\n",
       "      <th>sentiment</th>\n",
       "      <th>text</th>\n",
       "    </tr>\n",
       "  </thead>\n",
       "  <tbody>\n",
       "    <tr>\n",
       "      <th>0</th>\n",
       "      <td>Neutral</td>\n",
       "      <td>BBC News - Amazon boss Jeff Bezos rejects clai...</td>\n",
       "    </tr>\n",
       "    <tr>\n",
       "      <th>1</th>\n",
       "      <td>Negative</td>\n",
       "      <td>@Microsoft Why do I pay for WORD when it funct...</td>\n",
       "    </tr>\n",
       "    <tr>\n",
       "      <th>2</th>\n",
       "      <td>Negative</td>\n",
       "      <td>CSGO matchmaking is so full of closet hacking,...</td>\n",
       "    </tr>\n",
       "    <tr>\n",
       "      <th>3</th>\n",
       "      <td>Neutral</td>\n",
       "      <td>Now the President is slapping Americans in the...</td>\n",
       "    </tr>\n",
       "    <tr>\n",
       "      <th>4</th>\n",
       "      <td>Negative</td>\n",
       "      <td>Hi @EAHelp I’ve had Madeleine McCann in my cel...</td>\n",
       "    </tr>\n",
       "    <tr>\n",
       "      <th>...</th>\n",
       "      <td>...</td>\n",
       "      <td>...</td>\n",
       "    </tr>\n",
       "    <tr>\n",
       "      <th>994</th>\n",
       "      <td>Irrelevant</td>\n",
       "      <td>⭐️ Toronto is the arts and culture capital of ...</td>\n",
       "    </tr>\n",
       "    <tr>\n",
       "      <th>995</th>\n",
       "      <td>Irrelevant</td>\n",
       "      <td>tHIS IS ACTUALLY A GOOD MOVE TOT BRING MORE VI...</td>\n",
       "    </tr>\n",
       "    <tr>\n",
       "      <th>996</th>\n",
       "      <td>Positive</td>\n",
       "      <td>Today sucked so it’s time to drink wine n play...</td>\n",
       "    </tr>\n",
       "    <tr>\n",
       "      <th>997</th>\n",
       "      <td>Positive</td>\n",
       "      <td>Bought a fraction of Microsoft today. Small wins.</td>\n",
       "    </tr>\n",
       "    <tr>\n",
       "      <th>998</th>\n",
       "      <td>Neutral</td>\n",
       "      <td>Johnson &amp; Johnson to stop selling talc baby po...</td>\n",
       "    </tr>\n",
       "  </tbody>\n",
       "</table>\n",
       "<p>999 rows × 2 columns</p>\n",
       "</div>"
      ],
      "text/plain": [
       "      sentiment                                               text\n",
       "0       Neutral  BBC News - Amazon boss Jeff Bezos rejects clai...\n",
       "1      Negative  @Microsoft Why do I pay for WORD when it funct...\n",
       "2      Negative  CSGO matchmaking is so full of closet hacking,...\n",
       "3       Neutral  Now the President is slapping Americans in the...\n",
       "4      Negative  Hi @EAHelp I’ve had Madeleine McCann in my cel...\n",
       "..          ...                                                ...\n",
       "994  Irrelevant  ⭐️ Toronto is the arts and culture capital of ...\n",
       "995  Irrelevant  tHIS IS ACTUALLY A GOOD MOVE TOT BRING MORE VI...\n",
       "996    Positive  Today sucked so it’s time to drink wine n play...\n",
       "997    Positive  Bought a fraction of Microsoft today. Small wins.\n",
       "998     Neutral  Johnson & Johnson to stop selling talc baby po...\n",
       "\n",
       "[999 rows x 2 columns]"
      ]
     },
     "execution_count": 7,
     "metadata": {},
     "output_type": "execute_result"
    }
   ],
   "source": [
    "data_test.drop('no1',axis=1,inplace=True)\n",
    "data_test.drop('no2',axis=1,inplace=True)\n",
    "data_test"
   ]
  },
  {
   "cell_type": "code",
   "execution_count": 8,
   "id": "0643a8f0",
   "metadata": {},
   "outputs": [],
   "source": [
    "data_train.dropna(inplace=True)\n",
    "data_test.dropna(inplace=True)"
   ]
  },
  {
   "cell_type": "code",
   "execution_count": 9,
   "id": "75ed938c",
   "metadata": {},
   "outputs": [
    {
     "data": {
      "text/plain": [
       "((73995, 2), (999, 2))"
      ]
     },
     "execution_count": 9,
     "metadata": {},
     "output_type": "execute_result"
    }
   ],
   "source": [
    "data_train.shape,data_test.shape"
   ]
  },
  {
   "cell_type": "code",
   "execution_count": 10,
   "id": "60525083",
   "metadata": {},
   "outputs": [],
   "source": [
    "TAG_RE = re.compile(r'<[^>]+>')\n",
    "\n",
    "def remove_tags(text):\n",
    "    '''Removes HTML tags: replaces anything between opening and closing <> with empty space'''\n",
    "\n",
    "    return TAG_RE.sub('', text)"
   ]
  },
  {
   "cell_type": "code",
   "execution_count": 11,
   "id": "8f15940f",
   "metadata": {},
   "outputs": [
    {
     "name": "stderr",
     "output_type": "stream",
     "text": [
      "[nltk_data] Downloading package stopwords to\n",
      "[nltk_data]     C:\\Users\\lenovo\\AppData\\Roaming\\nltk_data...\n",
      "[nltk_data]   Package stopwords is already up-to-date!\n"
     ]
    },
    {
     "data": {
      "text/plain": [
       "True"
      ]
     },
     "execution_count": 11,
     "metadata": {},
     "output_type": "execute_result"
    }
   ],
   "source": [
    "import nltk\n",
    "nltk.download('stopwords')"
   ]
  },
  {
   "cell_type": "code",
   "execution_count": 12,
   "id": "524a8187",
   "metadata": {},
   "outputs": [],
   "source": [
    "def preprocess_text(sen):\n",
    "    '''Cleans text data up, leaving only 2 or more char long non-stepwords composed of A-Z & a-z only\n",
    "    in lowercase'''\n",
    "    \n",
    "    sentence = sen.lower()\n",
    "\n",
    "    # Remove html tags\n",
    "    sentence = remove_tags(sentence)\n",
    "\n",
    "    # Remove punctuations and numbers\n",
    "    sentence = re.sub('[^a-zA-Z]', ' ', sentence)\n",
    "\n",
    "    # Single character removal\n",
    "    sentence = re.sub(r\"\\s+[a-zA-Z]\\s+\", ' ', sentence)  # When we remove apostrophe from the word \"Mark's\", the apostrophe is replaced by an empty space. Hence, we are left with single character \"s\" that we are removing here.\n",
    "\n",
    "    # Remove multiple spaces\n",
    "    sentence = re.sub(r'\\s+', ' ', sentence)  # Next, we remove all the single characters and replace it by a space which creates multiple spaces in our text. Finally, we remove the multiple spaces from our text as well.\n",
    "\n",
    "    # Remove Stopwords\n",
    "    pattern = re.compile(r'\\b(' + r'|'.join(stopwords.words('english')) + r')\\b\\s*')\n",
    "    sentence = pattern.sub('', sentence)\n",
    "\n",
    "    return sentence"
   ]
  },
  {
   "cell_type": "code",
   "execution_count": 13,
   "id": "f912e495",
   "metadata": {},
   "outputs": [],
   "source": [
    "x_train_text = []\n",
    "sentences = list(data_train['text'])\n",
    "for sen in sentences:\n",
    "    x_train_text.append(preprocess_text(sen))\n",
    "    \n",
    "    \n",
    "x_test_text = []\n",
    "sentences = list(data_test['text'])\n",
    "for sen in sentences:\n",
    "    x_test_text.append(preprocess_text(sen))"
   ]
  },
  {
   "cell_type": "code",
   "execution_count": 14,
   "id": "ddf1c3ad",
   "metadata": {},
   "outputs": [],
   "source": [
    "data_train['sentiment']=data_train['sentiment'].map({'Positive':0,'Negative':2,'Neutral':1,'Irrelevant':3})\n",
    "data_test['sentiment']=data_test['sentiment'].map({'Positive':0,'Negative':2,'Neutral':1,'Irrelevant':3})"
   ]
  },
  {
   "cell_type": "code",
   "execution_count": 15,
   "id": "cac1af3d",
   "metadata": {},
   "outputs": [
    {
     "data": {
      "text/plain": [
       "0     0\n",
       "1     0\n",
       "2     0\n",
       "3     0\n",
       "4     0\n",
       "5     0\n",
       "6     0\n",
       "7     0\n",
       "8     0\n",
       "9     0\n",
       "10    0\n",
       "11    1\n",
       "12    1\n",
       "13    1\n",
       "14    1\n",
       "15    1\n",
       "16    1\n",
       "17    0\n",
       "18    0\n",
       "19    0\n",
       "20    0\n",
       "21    0\n",
       "22    0\n",
       "23    2\n",
       "24    2\n",
       "25    2\n",
       "26    2\n",
       "27    2\n",
       "28    2\n",
       "29    0\n",
       "Name: sentiment, dtype: int64"
      ]
     },
     "execution_count": 15,
     "metadata": {},
     "output_type": "execute_result"
    }
   ],
   "source": [
    "data_train['sentiment'].head(30)\n"
   ]
  },
  {
   "cell_type": "code",
   "execution_count": 16,
   "id": "56ca4833",
   "metadata": {},
   "outputs": [
    {
     "data": {
      "text/plain": [
       "<tf.Tensor: shape=(73995, 4), dtype=float32, numpy=\n",
       "array([[1., 0., 0., 0.],\n",
       "       [1., 0., 0., 0.],\n",
       "       [1., 0., 0., 0.],\n",
       "       ...,\n",
       "       [1., 0., 0., 0.],\n",
       "       [1., 0., 0., 0.],\n",
       "       [1., 0., 0., 0.]], dtype=float32)>"
      ]
     },
     "execution_count": 16,
     "metadata": {},
     "output_type": "execute_result"
    }
   ],
   "source": [
    "x_train_sentiment=np.array(data_train.iloc[:,0])\n",
    "x_train_sentiment=tf.one_hot(x_train_sentiment, 4)\n",
    "x_train_sentiment"
   ]
  },
  {
   "cell_type": "code",
   "execution_count": 17,
   "id": "64e35bff",
   "metadata": {},
   "outputs": [
    {
     "data": {
      "text/plain": [
       "<tf.Tensor: shape=(999, 4), dtype=float32, numpy=\n",
       "array([[0., 1., 0., 0.],\n",
       "       [0., 0., 1., 0.],\n",
       "       [0., 0., 1., 0.],\n",
       "       ...,\n",
       "       [1., 0., 0., 0.],\n",
       "       [1., 0., 0., 0.],\n",
       "       [0., 1., 0., 0.]], dtype=float32)>"
      ]
     },
     "execution_count": 17,
     "metadata": {},
     "output_type": "execute_result"
    }
   ],
   "source": [
    "x_test_sentiment=np.array(data_test.iloc[:,0])\n",
    "x_test_sentiment=tf.one_hot(x_test_sentiment, 4)\n",
    "x_test_sentiment"
   ]
  },
  {
   "cell_type": "code",
   "execution_count": 18,
   "id": "81da4c61",
   "metadata": {},
   "outputs": [],
   "source": [
    "x_train=x_train_text\n",
    "y_train=x_train_sentiment\n",
    "x_test=x_test_text\n",
    "y_test=x_test_sentiment"
   ]
  },
  {
   "cell_type": "code",
   "execution_count": 19,
   "id": "0a8eb2dd",
   "metadata": {},
   "outputs": [
    {
     "data": {
      "text/plain": [
       "(TensorShape([73995, 4]), TensorShape([999, 4]))"
      ]
     },
     "execution_count": 19,
     "metadata": {},
     "output_type": "execute_result"
    }
   ],
   "source": [
    "y_train.shape,y_test.shape"
   ]
  },
  {
   "cell_type": "code",
   "execution_count": 20,
   "id": "60aff58d",
   "metadata": {},
   "outputs": [],
   "source": [
    "word_tokenizer = Tokenizer()\n",
    "word_tokenizer.fit_on_texts(x_train)\n",
    "\n",
    "x_train = word_tokenizer.texts_to_sequences(x_train)\n",
    "x_test = word_tokenizer.texts_to_sequences(x_test)"
   ]
  },
  {
   "cell_type": "code",
   "execution_count": 21,
   "id": "a3b9e745",
   "metadata": {},
   "outputs": [
    {
     "data": {
      "text/plain": [
       "29131"
      ]
     },
     "execution_count": 21,
     "metadata": {},
     "output_type": "execute_result"
    }
   ],
   "source": [
    "vocab_length = len(word_tokenizer.word_index) +1\n",
    "\n",
    "vocab_length\n"
   ]
  },
  {
   "cell_type": "code",
   "execution_count": 22,
   "id": "217faf02",
   "metadata": {},
   "outputs": [],
   "source": [
    "maxlen = 100\n",
    "\n",
    "x_train = pad_sequences(x_train, padding='post', maxlen=maxlen)\n",
    "x_test = pad_sequences(x_test, padding='post', maxlen=maxlen)"
   ]
  },
  {
   "cell_type": "code",
   "execution_count": 23,
   "id": "5f6cda39",
   "metadata": {},
   "outputs": [
    {
     "data": {
      "text/plain": [
       "((73995, 100), TensorShape([73995, 4]))"
      ]
     },
     "execution_count": 23,
     "metadata": {},
     "output_type": "execute_result"
    }
   ],
   "source": [
    "x_train.shape,y_train.shape"
   ]
  },
  {
   "cell_type": "code",
   "execution_count": 24,
   "id": "694ea8f8",
   "metadata": {},
   "outputs": [],
   "source": [
    "from numpy import asarray\n",
    "from numpy import zeros\n",
    "\n",
    "embeddings_dictionary = dict()\n",
    "glove_file = open('a2_glove.6B.100d.txt', encoding=\"utf8\")\n",
    "\n",
    "for line in glove_file:\n",
    "    records = line.split()\n",
    "    word = records[0]\n",
    "    vector_dimensions = asarray(records[1:], dtype='float32')\n",
    "    embeddings_dictionary [word] = vector_dimensions\n",
    "glove_file.close()"
   ]
  },
  {
   "cell_type": "code",
   "execution_count": 25,
   "id": "3a2b1474",
   "metadata": {},
   "outputs": [],
   "source": [
    "embedding_matrix = zeros((vocab_length, 100))\n",
    "for word, index in word_tokenizer.word_index.items():\n",
    "    embedding_vector = embeddings_dictionary.get(word)\n",
    "    if embedding_vector is not None:\n",
    "        embedding_matrix[index] = embedding_vector"
   ]
  },
  {
   "cell_type": "code",
   "execution_count": 26,
   "id": "d554af64",
   "metadata": {},
   "outputs": [
    {
     "data": {
      "text/plain": [
       "(29131, 100)"
      ]
     },
     "execution_count": 26,
     "metadata": {},
     "output_type": "execute_result"
    }
   ],
   "source": [
    "embedding_matrix.shape"
   ]
  },
  {
   "cell_type": "code",
   "execution_count": 27,
   "id": "5c999484",
   "metadata": {},
   "outputs": [],
   "source": [
    "model=Sequential()"
   ]
  },
  {
   "cell_type": "code",
   "execution_count": 28,
   "id": "78d3e47c",
   "metadata": {},
   "outputs": [],
   "source": [
    "model.add(Embedding(vocab_length,100,weights=[embedding_matrix], input_length=maxlen))\n",
    "model.add(Conv1D(64,5,padding =\"same\",activation=\"relu\"))\n",
    "model.add(MaxPooling1D())\n",
    "model.add(Dropout(0.2))\n",
    "model.add(Conv1D(128,5,padding=\"same\",activation=\"relu\"))\n",
    "#model.add(MultiHeadAttention(key_dim=128, value_dim=128, num_heads=1,value=10))\n",
    "model.add(MaxPooling1D())\n",
    "model.add(Dropout(0.2))\n",
    "#model.add(Bidirectional(LSTM(20)))\n",
    "model.add(Bidirectional(LSTM(64)))\n",
    "#model.add(Flatten())\n",
    "# model.add(Cropping3D(cropping=((1, 1), (1, 1), (1, 1))))\n",
    "# model.add(UpSampling3D(size=(2, 2, 2)))\n",
    "# model.add(AdditiveAttention()) \n",
    "#model.add(MultiHeadAttention(num_heads=2, key_dim=128, value=128))\n",
    "# model.add(Flatten())\n",
    "\n",
    "model.add(Dense(units=4,activation=\"sigmoid\"))"
   ]
  },
  {
   "cell_type": "code",
   "execution_count": 29,
   "id": "128741d1",
   "metadata": {},
   "outputs": [
    {
     "name": "stdout",
     "output_type": "stream",
     "text": [
      "Model: \"sequential\"\n",
      "_________________________________________________________________\n",
      " Layer (type)                Output Shape              Param #   \n",
      "=================================================================\n",
      " embedding (Embedding)       (None, 100, 100)          2913100   \n",
      "                                                                 \n",
      " conv1d (Conv1D)             (None, 100, 64)           32064     \n",
      "                                                                 \n",
      " max_pooling1d (MaxPooling1  (None, 50, 64)            0         \n",
      " D)                                                              \n",
      "                                                                 \n",
      " dropout (Dropout)           (None, 50, 64)            0         \n",
      "                                                                 \n",
      " conv1d_1 (Conv1D)           (None, 50, 128)           41088     \n",
      "                                                                 \n",
      " max_pooling1d_1 (MaxPoolin  (None, 25, 128)           0         \n",
      " g1D)                                                            \n",
      "                                                                 \n",
      " dropout_1 (Dropout)         (None, 25, 128)           0         \n",
      "                                                                 \n",
      " bidirectional (Bidirection  (None, 128)               98816     \n",
      " al)                                                             \n",
      "                                                                 \n",
      " dense (Dense)               (None, 4)                 516       \n",
      "                                                                 \n",
      "=================================================================\n",
      "Total params: 3085584 (11.77 MB)\n",
      "Trainable params: 3085584 (11.77 MB)\n",
      "Non-trainable params: 0 (0.00 Byte)\n",
      "_________________________________________________________________\n"
     ]
    }
   ],
   "source": [
    "model.summary()"
   ]
  },
  {
   "cell_type": "code",
   "execution_count": 30,
   "id": "d518d8e2",
   "metadata": {},
   "outputs": [],
   "source": [
    "model.compile(optimizer='adam', loss='binary_crossentropy', metrics=['accuracy'])"
   ]
  },
  {
   "cell_type": "code",
   "execution_count": 31,
   "id": "cbd090cd",
   "metadata": {},
   "outputs": [
    {
     "name": "stdout",
     "output_type": "stream",
     "text": [
      "Epoch 1/10\n",
      "2313/2313 [==============================] - 344s 146ms/step - loss: 0.3780 - accuracy: 0.6401 - val_loss: 0.1703 - val_accuracy: 0.8709\n",
      "Epoch 2/10\n",
      "2313/2313 [==============================] - 328s 142ms/step - loss: 0.1777 - accuracy: 0.8499 - val_loss: 0.1039 - val_accuracy: 0.9309\n",
      "Epoch 3/10\n",
      "2313/2313 [==============================] - 334s 145ms/step - loss: 0.1135 - accuracy: 0.9041 - val_loss: 0.0926 - val_accuracy: 0.9449\n",
      "Epoch 4/10\n",
      "2313/2313 [==============================] - 336s 145ms/step - loss: 0.0855 - accuracy: 0.9257 - val_loss: 0.0817 - val_accuracy: 0.9530\n",
      "Epoch 5/10\n",
      "2313/2313 [==============================] - 323s 140ms/step - loss: 0.0707 - accuracy: 0.9367 - val_loss: 0.0705 - val_accuracy: 0.9620\n",
      "Epoch 6/10\n",
      "2313/2313 [==============================] - 340s 147ms/step - loss: 0.0607 - accuracy: 0.9451 - val_loss: 0.0828 - val_accuracy: 0.9570\n",
      "Epoch 7/10\n",
      "2313/2313 [==============================] - 331s 143ms/step - loss: 0.0538 - accuracy: 0.9505 - val_loss: 0.0857 - val_accuracy: 0.9590\n",
      "Epoch 8/10\n",
      "2313/2313 [==============================] - 330s 143ms/step - loss: 0.0493 - accuracy: 0.9535 - val_loss: 0.0820 - val_accuracy: 0.9570\n",
      "Epoch 9/10\n",
      "2313/2313 [==============================] - 259s 112ms/step - loss: 0.0446 - accuracy: 0.9571 - val_loss: 0.1011 - val_accuracy: 0.9510\n",
      "Epoch 10/10\n",
      "2313/2313 [==============================] - 141s 61ms/step - loss: 0.0425 - accuracy: 0.9590 - val_loss: 0.0886 - val_accuracy: 0.9610\n"
     ]
    },
    {
     "data": {
      "text/plain": [
       "<keras.src.callbacks.History at 0x1a36bccc7f0>"
      ]
     },
     "execution_count": 31,
     "metadata": {},
     "output_type": "execute_result"
    }
   ],
   "source": [
    "model.fit(x_train,y_train,epochs=10,batch_size=32,validation_data=(x_test,y_test))"
   ]
  },
  {
   "cell_type": "code",
   "execution_count": 44,
   "id": "2285d92b",
   "metadata": {},
   "outputs": [
    {
     "name": "stdout",
     "output_type": "stream",
     "text": [
      "32/32 [==============================] - 1s 32ms/step\n",
      "32/32 [==============================] - 1s 31ms/step - loss: 0.0886 - accuracy: 0.9610\n"
     ]
    },
    {
     "data": {
      "text/plain": [
       "[0.08856090158224106, 0.9609609842300415]"
      ]
     },
     "execution_count": 44,
     "metadata": {},
     "output_type": "execute_result"
    }
   ],
   "source": [
    "y_test_pred=model.predict(x_test)\n",
    "model.evaluate(x_test,y_test) "
   ]
  },
  {
   "cell_type": "code",
   "execution_count": 45,
   "id": "aace4b34",
   "metadata": {},
   "outputs": [
    {
     "data": {
      "text/plain": [
       "array([[1.4531445e-05, 9.9995512e-01, 1.7946973e-05, 3.3229655e-05],\n",
       "       [1.1366004e-05, 2.2129741e-05, 9.9997234e-01, 5.8337064e-06],\n",
       "       [1.9460191e-05, 3.8436567e-05, 9.9993527e-01, 1.1972564e-05],\n",
       "       ...,\n",
       "       [9.9993145e-01, 3.8174359e-05, 2.5950721e-05, 4.8653212e-05],\n",
       "       [9.9992901e-01, 4.6977199e-05, 2.9451974e-05, 5.4563512e-05],\n",
       "       [6.6681505e-06, 9.9998879e-01, 6.2872941e-06, 9.0375979e-06]],\n",
       "      dtype=float32)"
      ]
     },
     "execution_count": 45,
     "metadata": {},
     "output_type": "execute_result"
    }
   ],
   "source": [
    "y_test_pred"
   ]
  },
  {
   "cell_type": "code",
   "execution_count": 46,
   "id": "1bec0c06",
   "metadata": {},
   "outputs": [
    {
     "name": "stdout",
     "output_type": "stream",
     "text": [
      "[[0. 1. 0. 0.]\n",
      " [0. 0. 1. 0.]\n",
      " [0. 0. 1. 0.]\n",
      " ...\n",
      " [1. 0. 0. 0.]\n",
      " [1. 0. 0. 0.]\n",
      " [0. 1. 0. 0.]]\n"
     ]
    }
   ],
   "source": [
    "input_array=y_test_pred\n",
    "binary_array = np.zeros_like(input_array)\n",
    "max_indices = np.argmax(input_array, axis=1)\n",
    "binary_array[np.arange(len(input_array)), max_indices] = 1\n",
    "y_test_pred=binary_array\n",
    "print(binary_array)"
   ]
  },
  {
   "cell_type": "code",
   "execution_count": 47,
   "id": "81cb0163",
   "metadata": {},
   "outputs": [
    {
     "name": "stdout",
     "output_type": "stream",
     "text": [
      "              precision    recall  f1-score   support\n",
      "\n",
      "           0       0.96      0.96      0.96       277\n",
      "           1       0.95      0.96      0.96       285\n",
      "           2       0.96      0.97      0.96       266\n",
      "           3       0.98      0.95      0.97       171\n",
      "\n",
      "   micro avg       0.96      0.96      0.96       999\n",
      "   macro avg       0.96      0.96      0.96       999\n",
      "weighted avg       0.96      0.96      0.96       999\n",
      " samples avg       0.96      0.96      0.96       999\n",
      "\n"
     ]
    }
   ],
   "source": [
    "from sklearn.metrics import classification_report\n",
    "print(classification_report(y_test,y_test_pred))"
   ]
  }
 ],
 "metadata": {
  "kernelspec": {
   "display_name": "Python 3 (ipykernel)",
   "language": "python",
   "name": "python3"
  },
  "language_info": {
   "codemirror_mode": {
    "name": "ipython",
    "version": 3
   },
   "file_extension": ".py",
   "mimetype": "text/x-python",
   "name": "python",
   "nbconvert_exporter": "python",
   "pygments_lexer": "ipython3",
   "version": "3.10.9"
  }
 },
 "nbformat": 4,
 "nbformat_minor": 5
}
